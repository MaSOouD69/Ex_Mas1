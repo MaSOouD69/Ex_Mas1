{
 "cells": [
  {
   "cell_type": "code",
   "execution_count": 3,
   "id": "3a883dcb",
   "metadata": {},
   "outputs": [
    {
     "data": {
      "text/plain": [
       "545"
      ]
     },
     "execution_count": 3,
     "metadata": {},
     "output_type": "execute_result"
    }
   ],
   "source": [
    "545"
   ]
  },
  {
   "cell_type": "code",
   "execution_count": 5,
   "id": "b06efc9a",
   "metadata": {},
   "outputs": [
    {
     "data": {
      "text/plain": [
       "35"
      ]
     },
     "execution_count": 5,
     "metadata": {},
     "output_type": "execute_result"
    }
   ],
   "source": [
    "7*5"
   ]
  },
  {
   "cell_type": "markdown",
   "id": "3d12f8c0",
   "metadata": {},
   "source": [
    "## 1/2"
   ]
  },
  {
   "cell_type": "code",
   "execution_count": 7,
   "id": "82131790",
   "metadata": {},
   "outputs": [
    {
     "data": {
      "text/plain": [
       "16"
      ]
     },
     "execution_count": 7,
     "metadata": {},
     "output_type": "execute_result"
    }
   ],
   "source": [
    "2**4"
   ]
  },
  {
   "cell_type": "code",
   "execution_count": 8,
   "id": "059b450e",
   "metadata": {},
   "outputs": [
    {
     "data": {
      "text/plain": [
       "0.5"
      ]
     },
     "execution_count": 8,
     "metadata": {},
     "output_type": "execute_result"
    }
   ],
   "source": [
    "1/2"
   ]
  },
  {
   "cell_type": "code",
   "execution_count": 9,
   "id": "6c142119",
   "metadata": {},
   "outputs": [
    {
     "data": {
      "text/plain": [
       "0.5"
      ]
     },
     "execution_count": 9,
     "metadata": {},
     "output_type": "execute_result"
    }
   ],
   "source": [
    "1/2.00"
   ]
  },
  {
   "cell_type": "code",
   "execution_count": 10,
   "id": "a08b9889",
   "metadata": {},
   "outputs": [
    {
     "data": {
      "text/plain": [
       "0"
      ]
     },
     "execution_count": 10,
     "metadata": {},
     "output_type": "execute_result"
    }
   ],
   "source": [
    " 4%2"
   ]
  },
  {
   "cell_type": "code",
   "execution_count": 11,
   "id": "380f31e3",
   "metadata": {},
   "outputs": [
    {
     "data": {
      "text/plain": [
       "1"
      ]
     },
     "execution_count": 11,
     "metadata": {},
     "output_type": "execute_result"
    }
   ],
   "source": [
    "6%5"
   ]
  },
  {
   "cell_type": "code",
   "execution_count": 12,
   "id": "3ae71f1a",
   "metadata": {},
   "outputs": [],
   "source": [
    "var=4"
   ]
  },
  {
   "cell_type": "code",
   "execution_count": 13,
   "id": "d8877b14",
   "metadata": {},
   "outputs": [
    {
     "data": {
      "text/plain": [
       "4"
      ]
     },
     "execution_count": 13,
     "metadata": {},
     "output_type": "execute_result"
    }
   ],
   "source": [
    "var"
   ]
  },
  {
   "cell_type": "code",
   "execution_count": 14,
   "id": "57c6b6df",
   "metadata": {},
   "outputs": [],
   "source": [
    "x=67"
   ]
  },
  {
   "cell_type": "code",
   "execution_count": 15,
   "id": "6b8d0d9c",
   "metadata": {},
   "outputs": [
    {
     "data": {
      "text/plain": [
       "20151121"
      ]
     },
     "execution_count": 15,
     "metadata": {},
     "output_type": "execute_result"
    }
   ],
   "source": [
    "x**var"
   ]
  },
  {
   "cell_type": "code",
   "execution_count": 16,
   "id": "4baac461",
   "metadata": {},
   "outputs": [
    {
     "data": {
      "text/plain": [
       "3"
      ]
     },
     "execution_count": 16,
     "metadata": {},
     "output_type": "execute_result"
    }
   ],
   "source": [
    "x%var"
   ]
  },
  {
   "cell_type": "code",
   "execution_count": 27,
   "id": "c04ec020",
   "metadata": {},
   "outputs": [],
   "source": [
    "x +=x"
   ]
  },
  {
   "cell_type": "code",
   "execution_count": 28,
   "id": "e67f6d0d",
   "metadata": {},
   "outputs": [
    {
     "data": {
      "text/plain": [
       "2144"
      ]
     },
     "execution_count": 28,
     "metadata": {},
     "output_type": "execute_result"
    }
   ],
   "source": [
    "x"
   ]
  },
  {
   "cell_type": "code",
   "execution_count": 33,
   "id": "8fcf9f48",
   "metadata": {},
   "outputs": [
    {
     "data": {
      "text/plain": [
       "2144"
      ]
     },
     "execution_count": 33,
     "metadata": {},
     "output_type": "execute_result"
    }
   ],
   "source": [
    "x"
   ]
  },
  {
   "cell_type": "code",
   "execution_count": 34,
   "id": "c86856b3",
   "metadata": {},
   "outputs": [
    {
     "data": {
      "text/plain": [
       "1692"
      ]
     },
     "execution_count": 34,
     "metadata": {},
     "output_type": "execute_result"
    }
   ],
   "source": [
    "141*12 "
   ]
  },
  {
   "cell_type": "code",
   "execution_count": 42,
   "id": "52527987",
   "metadata": {},
   "outputs": [
    {
     "data": {
      "text/plain": [
       "'masoud'"
      ]
     },
     "execution_count": 42,
     "metadata": {},
     "output_type": "execute_result"
    }
   ],
   "source": [
    "x=\"masoud\"\n",
    "x"
   ]
  },
  {
   "cell_type": "code",
   "execution_count": 43,
   "id": "69ca4619",
   "metadata": {},
   "outputs": [
    {
     "name": "stdout",
     "output_type": "stream",
     "text": [
      "masoud\n"
     ]
    }
   ],
   "source": [
    "print (x)"
   ]
  },
  {
   "cell_type": "code",
   "execution_count": 48,
   "id": "0b57ea2e",
   "metadata": {},
   "outputs": [
    {
     "name": "stdout",
     "output_type": "stream",
     "text": [
      "my name is masoud and i am 4.0\n"
     ]
    }
   ],
   "source": [
    "print('my name is {} and i am {}'.format(x,12/3))"
   ]
  },
  {
   "cell_type": "code",
   "execution_count": 52,
   "id": "04d75876",
   "metadata": {},
   "outputs": [],
   "source": [
    "s= \"hel lo\""
   ]
  },
  {
   "cell_type": "code",
   "execution_count": 53,
   "id": "75f33868",
   "metadata": {},
   "outputs": [
    {
     "data": {
      "text/plain": [
       "' '"
      ]
     },
     "execution_count": 53,
     "metadata": {},
     "output_type": "execute_result"
    }
   ],
   "source": [
    "s[3]"
   ]
  },
  {
   "cell_type": "code",
   "execution_count": 55,
   "id": "c56ede89",
   "metadata": {},
   "outputs": [
    {
     "data": {
      "text/plain": [
       "'l lo'"
      ]
     },
     "execution_count": 55,
     "metadata": {},
     "output_type": "execute_result"
    }
   ],
   "source": [
    "s[2:]"
   ]
  },
  {
   "cell_type": "code",
   "execution_count": 57,
   "id": "8ebef995",
   "metadata": {},
   "outputs": [],
   "source": [
    "k=[1,[4,7],5,(9,\"y\",'j')]"
   ]
  },
  {
   "cell_type": "code",
   "execution_count": 61,
   "id": "0550f0e3",
   "metadata": {},
   "outputs": [
    {
     "name": "stdout",
     "output_type": "stream",
     "text": [
      "y\n"
     ]
    }
   ],
   "source": [
    "print(k[3][1])"
   ]
  },
  {
   "cell_type": "code",
   "execution_count": null,
   "id": "bf65ae90",
   "metadata": {},
   "outputs": [],
   "source": []
  }
 ],
 "metadata": {
  "kernelspec": {
   "display_name": "Python 3",
   "language": "python",
   "name": "python3"
  },
  "language_info": {
   "codemirror_mode": {
    "name": "ipython",
    "version": 3
   },
   "file_extension": ".py",
   "mimetype": "text/x-python",
   "name": "python",
   "nbconvert_exporter": "python",
   "pygments_lexer": "ipython3",
   "version": "3.8.8"
  }
 },
 "nbformat": 4,
 "nbformat_minor": 5
}
